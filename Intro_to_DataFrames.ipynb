{
  "nbformat": 4,
  "nbformat_minor": 0,
  "metadata": {
    "colab": {
      "name": "Intro to DataFrames.ipynb",
      "provenance": [],
      "authorship_tag": "ABX9TyNN3HjwwsPtN1yMofZXBbUW",
      "include_colab_link": true
    },
    "kernelspec": {
      "name": "python3",
      "display_name": "Python 3"
    }
  },
  "cells": [
    {
      "cell_type": "markdown",
      "metadata": {
        "id": "view-in-github",
        "colab_type": "text"
      },
      "source": [
        "<a href=\"https://colab.research.google.com/github/JohnMLarkin/ColabForLab-DataFrame-Intro/blob/main/Intro_to_DataFrames.ipynb\" target=\"_parent\"><img src=\"https://colab.research.google.com/assets/colab-badge.svg\" alt=\"Open In Colab\"/></a>"
      ]
    },
    {
      "cell_type": "markdown",
      "metadata": {
        "id": "t5nL5D4HdtuY"
      },
      "source": [
        "# Connect to GitHub\r\n",
        "**Important:** Replace the URL below with the URL for your own copy of this repository before processing the following Code cell.\r\n",
        "\r\n",
        "The following code checks if the repository already exists in the kernel's file system.\r\n",
        "* If it does, then it uses git's `pull` command to check if there are any updates available on the GitHub repo.\r\n",
        "* If it doesn't exist, then it uses git's `clone` command to create a copy of the repository accessbile by the kernel."
      ]
    },
    {
      "cell_type": "code",
      "metadata": {
        "colab": {
          "base_uri": "https://localhost:8080/"
        },
        "id": "jhVvoE0Jbv2l",
        "outputId": "0e66949d-8658-4653-9381-d8aa52ff8296"
      },
      "source": [
        "url = \"https://github.com/JohnMLarkin/ColabForLab-DataFrame-Intro\"\r\n",
        "if 'google.colab' in str(get_ipython()):\r\n",
        "  import os.path\r\n",
        "  repo = os.path.split(url)[1]\r\n",
        "  repodir = os.path.join('/content', repo)\r\n",
        "  if os.path.isdir(repodir):\r\n",
        "    %cd $repodir\r\n",
        "    !git pull\r\n",
        "  else:\r\n",
        "    %cd /content\r\n",
        "    !git clone $url\r\n",
        "    %cd $repodir"
      ],
      "execution_count": 3,
      "outputs": [
        {
          "output_type": "stream",
          "text": [
            "/content/ColabForLab-DataFrame-Intro\n",
            "Already up to date.\n"
          ],
          "name": "stdout"
        }
      ]
    }
  ]
}