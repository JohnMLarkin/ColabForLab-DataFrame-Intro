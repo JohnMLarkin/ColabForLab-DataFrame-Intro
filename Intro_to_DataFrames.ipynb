{
  "nbformat": 4,
  "nbformat_minor": 0,
  "metadata": {
    "colab": {
      "name": "Intro to DataFrames.ipynb",
      "provenance": [],
      "authorship_tag": "ABX9TyMgUV0o5KyaV/0koxruHRTT",
      "include_colab_link": true
    },
    "kernelspec": {
      "name": "python3",
      "display_name": "Python 3"
    }
  },
  "cells": [
    {
      "cell_type": "markdown",
      "metadata": {
        "id": "view-in-github",
        "colab_type": "text"
      },
      "source": [
        "<a href=\"https://colab.research.google.com/github/JohnMLarkin/ColabForLab-DataFrame-Intro/blob/main/Intro_to_DataFrames.ipynb\" target=\"_parent\"><img src=\"https://colab.research.google.com/assets/colab-badge.svg\" alt=\"Open In Colab\"/></a>"
      ]
    },
    {
      "cell_type": "code",
      "metadata": {
        "colab": {
          "base_uri": "https://localhost:8080/"
        },
        "id": "jhVvoE0Jbv2l",
        "outputId": "e281109e-b608-4f50-a84a-56849f7eded2"
      },
      "source": [
        "if 'google.colab' in str(get_ipython()):\r\n",
        "  try:\r\n",
        "    %cd /content/ColabForLab-DataFrame-Intro/\r\n",
        "    !git pull\r\n",
        "  except:\r\n",
        "    %cd /content\r\n",
        "    !git clone https://github.com/JohnMLarkin/ColabForLab-DataFrame-Intro\r\n",
        "    %cd /content/ColabforLab-DataFrame-Intro/"
      ],
      "execution_count": 2,
      "outputs": [
        {
          "output_type": "stream",
          "text": [
            "[Errno 2] No such file or directory: '/content/ColabForLab-DataFrame-Intro/'\n",
            "/content\n",
            "fatal: not a git repository (or any of the parent directories): .git\n"
          ],
          "name": "stdout"
        }
      ]
    },
    {
      "cell_type": "code",
      "metadata": {
        "id": "e7xCi1VXcazu"
      },
      "source": [
        ""
      ],
      "execution_count": null,
      "outputs": []
    }
  ]
}