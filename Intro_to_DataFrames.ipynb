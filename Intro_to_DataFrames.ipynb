{
  "nbformat": 4,
  "nbformat_minor": 0,
  "metadata": {
    "colab": {
      "name": "Intro to DataFrames.ipynb",
      "provenance": [],
      "authorship_tag": "ABX9TyN7W1G+Hu9u5MO5VazsFpxa"
    },
    "kernelspec": {
      "name": "python3",
      "display_name": "Python 3"
    }
  },
  "cells": [
    {
      "cell_type": "markdown",
      "metadata": {
        "id": "7nACN3jyY5fY"
      },
      "source": [
        "# Install packages"
      ]
    },
    {
      "cell_type": "code",
      "metadata": {
        "id": "n_NbQf2NZAg5"
      },
      "source": [
        "!pip install whit-phys-util 1>/dev/null"
      ],
      "execution_count": null,
      "outputs": []
    },
    {
      "cell_type": "markdown",
      "metadata": {
        "id": "0ptRz641ZI9e"
      },
      "source": [
        "# Import libraries"
      ]
    },
    {
      "cell_type": "code",
      "metadata": {
        "id": "CwB1JIQsZMbi"
      },
      "source": [
        "import numpy as np\r\n",
        "import pandas as pd\r\n",
        "import whit_phys_util as buc"
      ],
      "execution_count": null,
      "outputs": []
    },
    {
      "cell_type": "markdown",
      "metadata": {
        "id": "t5nL5D4HdtuY"
      },
      "source": [
        "# Connect to GitHub\r\n",
        "You must have a `.env` or `dotenv` file in your Google Drive's top level with your GitHub info (email, username, and personal access token).\r\n",
        "\r\n",
        "Don't forget to add the URL for your own copy of this repository before processing the following Code cell."
      ]
    },
    {
      "cell_type": "code",
      "metadata": {
        "id": "jhVvoE0Jbv2l"
      },
      "source": [
        "repo = buc.local_repository(\"replace me with your repository URL\")"
      ],
      "execution_count": null,
      "outputs": []
    }
  ]
}
